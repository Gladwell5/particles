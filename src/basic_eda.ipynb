{
 "cells": [
  {
   "cell_type": "code",
   "execution_count": null,
   "metadata": {},
   "outputs": [],
   "source": [
    "# pandas is a library for storing and working with structured data\n",
    "import pandas as pd\n",
    "# numpy is a library for storing and working with matrices, similar to pandas but has more low level and maths fuctions\n",
    "import numpy as np"
   ]
  },
  {
   "cell_type": "code",
   "execution_count": null,
   "metadata": {},
   "outputs": [],
   "source": [
    "# read in the csv file as a dataframe\n",
    "df = pd.read_csv('../data/DiMuon_SingleMu_noM.csv', low_memory=False)"
   ]
  },
  {
   "cell_type": "code",
   "execution_count": null,
   "metadata": {},
   "outputs": [],
   "source": [
    "# show the first 5 lines of the dataframe\n",
    "df.head(n=5)"
   ]
  },
  {
   "cell_type": "code",
   "execution_count": null,
   "metadata": {},
   "outputs": [],
   "source": [
    "# access the values in a single variable\n",
    "print(df['eta1'])\n",
    "\n",
    "# get some basic stats for that variable\n",
    "df['eta1'].describe()\n",
    "\n",
    "# note: print statements are only needed for things you want to show that are not the final command in your cell as that prints by default"
   ]
  },
  {
   "cell_type": "code",
   "execution_count": null,
   "metadata": {},
   "outputs": [],
   "source": [
    "# plot a histogram for that variable\n",
    "df['eta1'].hist(bins=20)"
   ]
  },
  {
   "cell_type": "code",
   "execution_count": null,
   "metadata": {},
   "outputs": [],
   "source": [
    "# you can make new variables by using equations and functions and assigning them a name\n",
    "df['sum_E1_E2'] = df['E1'] + df['E2']\n",
    "df['log_E1'] = np.log(df['E1']) # log(base e)\n",
    "df['sqrt_E1'] = np.sqrt(df['E1']) # square root\n",
    "df['pwr.1_E1'] = df['E1'] ** .1 # raised to the power of 1/10\n",
    "\n",
    "# Check the dataframe again to check they're there and look right\n",
    "df.head()"
   ]
  },
  {
   "cell_type": "code",
   "execution_count": null,
   "metadata": {},
   "outputs": [],
   "source": [
    "# plot the histogram for E1 and see how it's very skewed to the left\n",
    "df['E1'].hist(bins=30)"
   ]
  },
  {
   "cell_type": "code",
   "execution_count": null,
   "metadata": {},
   "outputs": [],
   "source": [
    "# A common way to make it account for severe right skew like this is to use the log-transformed version of the variable\n",
    "# This allows to see distributions and anomalies a lot more clearly\n",
    "# The bins argument indicates how many columns we want - low values show the overall shape better while high values show anomalies better\n",
    "df['log_E1'].hist(bins=30)"
   ]
  },
  {
   "cell_type": "code",
   "execution_count": null,
   "metadata": {},
   "outputs": [],
   "source": [
    "# Plot a scatterplot of E1 and E2\n",
    "df.plot.scatter('E1', 'pt1')\n",
    "# We'll have the same issue when we do scatterplots with highly skewed variables"
   ]
  },
  {
   "cell_type": "code",
   "execution_count": null,
   "metadata": {},
   "outputs": [],
   "source": [
    "# log-transform the transverse momentum, then do the scatterplot\n",
    "df['log_pt1'] = np.log(df['pt1'])\n",
    "df.plot.scatter('log_pt1', 'log_E1')\n",
    "# Clearly a positive, linear relationship between transverse momentum and energy for the first particle"
   ]
  },
  {
   "cell_type": "code",
   "execution_count": null,
   "metadata": {},
   "outputs": [],
   "source": [
    "# Do the same for the second particle\n",
    "df['log_pt2'] = np.log(df['pt2'])\n",
    "df['log_E2'] = np.log(df['E2'])\n",
    "df.plot.scatter('log_pt2', 'log_E2')"
   ]
  }
 ],
 "metadata": {
  "kernelspec": {
   "display_name": "base",
   "language": "python",
   "name": "python3"
  },
  "language_info": {
   "codemirror_mode": {
    "name": "ipython",
    "version": 3
   },
   "file_extension": ".py",
   "mimetype": "text/x-python",
   "name": "python",
   "nbconvert_exporter": "python",
   "pygments_lexer": "ipython3",
   "version": "3.10.13"
  }
 },
 "nbformat": 4,
 "nbformat_minor": 2
}
